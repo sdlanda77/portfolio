{
  "nbformat": 4,
  "nbformat_minor": 0,
  "metadata": {
    "colab": {
      "name": "Sam L - hw1_release.ipynb",
      "provenance": [],
      "collapsed_sections": [],
      "toc_visible": true,
      "include_colab_link": true
    },
    "kernelspec": {
      "name": "python3",
      "display_name": "Python 3"
    }
  },
  "cells": [
    {
      "cell_type": "markdown",
      "metadata": {
        "id": "view-in-github",
        "colab_type": "text"
      },
      "source": [
        "<a href=\"https://colab.research.google.com/github/sdlanda77/portfolio/blob/main/Sam_L_hw1_release.ipynb\" target=\"_parent\"><img src=\"https://colab.research.google.com/assets/colab-badge.svg\" alt=\"Open In Colab\"/></a>"
      ]
    },
    {
      "cell_type": "markdown",
      "metadata": {
        "id": "8QPTu5MjS56p"
      },
      "source": [
        "# Problem 1: (20 points)\n",
        "\n",
        "Consider the casino game of [blackjack](https://en.wikipedia.org/wiki/Blackjack). This involves two players, the agent and the dealer, each of whom starts a game with two cards. The agent's goal is to beat the dealer by drawing cards from a deck until the sum of its hand is as close as possible to 21 without going over. The agent can see one of the dealer's cards, while the other is hidden. This is a simplified game, so the agent is only able to either \"hit\" (draw a card) or \"stay\" (end its turn). Here you should assume that the dealer has a *fixed* strategy (e.g., draw until it reaches 17, and then stop), and that its actions do not depend on the agent at all.\n",
        "\n",
        "1. Classify this task environment according to the six properties discussed in class, and include a one- or two-sentence justification for each.\n",
        "\n",
        "2. Suppose we formulate this as a search problem. Give a state space description of this problem. What are the states, including initial and goal states, actions, transition model, and action costs? It is possible for some of these to be \"trivial\", but include an explanation."
      ]
    },
    {
      "cell_type": "markdown",
      "metadata": {
        "id": "ahj4C2B5WSWJ"
      },
      "source": [
        "ENTER YOUR RESPONSES HERE\n",
        "\n",
        "1. a. Fully or partially observable?\n",
        "\n",
        "Partially. The agent can only see one of the dealer's cards and we do not know what card we will draw if we choose to hit so there is some relevant information that is unreachable. \n",
        "\n",
        "   b. Single-agent or multi-agent? \n",
        "\n",
        "Multi-agent. It is adversarial because the dealer is attempting to maximize thier performance measure (in this case in a fixed manner), effectively attempting to minimize the agent's performance measure.\n",
        "\n",
        "   c. Deterministic or stochastic?\n",
        "\n",
        "Stochastic. The next state of the environment is partially determined by the card drawn in the case of a hit. Since this is random, we can not always fully determine the next state of the environment.\n",
        "\n",
        "   d. Episodic or sequential?\n",
        "\n",
        "Sequential. The choice to hit or stay will affect all future choices, depending on the value of the card from a hit. \n",
        "\n",
        "   e. Static or dynamic?\n",
        "\n",
        "Static. The state will not change while the agent is deciding to hit or stay.\n",
        "\n",
        "   f. Discrete or continuous?\n",
        "\n",
        "Discrete. There is a finite number of actions (hit or stay), states (combinations of cards summing less than 21), and percepts (card that the dealer can have).\n",
        "\n",
        "2. a. States:\n",
        "\n",
        "Any combination of cards that the agent holds. This includes any combination of cards that sums less than 21, and any combination where all but one card sums to less than 21 (in the case that the agent busts). \n",
        "\n",
        "Initial state: \n",
        "\n",
        "The two card hand directly after dealing. This is the starting hand. \n",
        "\n",
        "Goal state: \n",
        "\n",
        "A hand that sums to 21, since this is the ideal hand in the game. \n",
        "\n",
        "   b. Actions:\n",
        "\n",
        "Hit and stay, these are the only two allowed moves in the game.\n",
        "\n",
        "   c. Transition model:\n",
        "\n",
        "Since hit and stay are the only option, the transition moddel follows two actions:\n",
        "\n",
        "Where S is any state where S = the sum of the cards\n",
        "\n",
        "Result(S, stay) = S --> returns the same hand\n",
        "\n",
        "Result(S, hit) = {S + x | 1 <= x <= 11 AND x is an integer} --> returns the hand with a new card and its associated value\n",
        "\n",
        "\n",
        "\n",
        "   d. Action costs: \n",
        "\n",
        "In the case of a hit, the action cost would be associated with the risk of going over 21. In the case of stay, the action cost would be proportional to how far from 21 the agent is, because their risk of losing is higher when the hand is lower. The assignment of numerical values would be correlated with the state and the action.\n"
      ]
    },
    {
      "cell_type": "markdown",
      "metadata": {
        "id": "WPU5yQGJWgAr"
      },
      "source": [
        "# Problem 2: (20 points)\n",
        "\n",
        "In the state space graph below, S is the start state and G1 and G2 are both possible goal states. Costs are shown along edges and heuristic values are shown in the rectangles next to each node. Assume that search algorithms expand states in alphabetical order when ties are present. \n",
        "\n",
        "![search-graph.png](data:image/png;base64,iVBORw0KGgoAAAANSUhEUgAAAokAAAHsCAMAAAH+3/fxAAAAAXNSR0IArs4c6QAAAARnQU1BAACxjwv8YQUAAAIKUExURQAAAAAAAAAAAAAAAAAAAAAAAAAAAAAAAAAAAAAAAAAAAAAAAAAAAAAAAAAAAAAAAAAAAAAAAAAAAAAAAAAAAAAAAAAAAAAAAAAAAAAAAAAAAAAAAAAAAAAAAAAAAAAAAAAAAAAAAAAAAAAAAAAAAAAAAAAAAAAAAAAAAAAAAAAAAAAAAAAAAAAAAAQEBAUFBQAAAAAAAAAAAAAAAAAAAAICAgQEBAAAAAAAAAAAAAICAgQEBAAAAAAAAAAAAAAAAAEBAQICAgAAAAMDAwQEBAAAAAAAAAAAAAEBAQAAAAEBAQAAAAAAAAAAAAAAAAAAAAAAAAAAAAAAAAAAAAAAAAAAAAgICAsLCwAAAAkJCQoKCgwMDA0NDQ4ODg8PDxERERISEhQUFBUVFRcXFxgYGBoaGhsbGx8fHyMjIyQkJCYmJicnJygoKDMzMzQ0NDU1NTw8PD4+PkFBQUREREdHR09PT1BQUFNTU1RUVFdXV1hYWFlZWVpaWltbW2BgYGRkZGdnZ2lpaXBwcHJycnNzc3V1dXZ2dnd3d3p6en19fYGBgYaGhoiIiImJiYyMjJKSkpOTk5iYmJmZmZycnJ2dnaKioqWlpaampqenp6urq6ysrLGxsbW1tba2trq6uru7u7+/v8PDw8TExMzMzNDQ0NjY2N3d3eXl5ezs7PHx8fLy8v39/f7+/v///3S2HRwAAABYdFJOUwAMEBMbICIkKSovMDo8QEdJSktQVVhbXGBnaW9wdnyAhYyPlp+jpaiprq+4v8LGxsnLz9DR1NTV19jY2Nnc3+Hj4+Xl5efo6err6+7v8PL09fb4+fz9/v6oMSPOAAAACXBIWXMAABcRAAAXEQHKJvM/AABIb0lEQVR4Xu2djX8XRZ7nY1jUI/Ig4AkaBALIGcIORO48R8DR3cM5YbnbvdudmpExcuNDHBVm3KjDODpGR0Q0MqAzorAaNMS4bv7H+9a3Pv1c1d3V3dUPv/T7Bb9UdVdXf/vT336o6noYqog9hxGoit/OSxDJx0fLhEAkye85R6s8ZYZpeSLHefNO4xxDlsuIxxHzL3GGFmYiQ6OZgnIT869RrliQDeeWkuUOspAyFfO/w4JsvvayPIQFceRhSxDNg8xOgmgMQfZJeK9GwSMI8axKvBMLYgjS422bLOUGQ/tVap2avJ7JmeWYv4FKH8/SX085yyzpPxZECbYL5aDSx7KMRFOzREoxqf4ynDyaZWQ9ZymTIBZF3Cp/j0YtCme5Sv7E1nOWEsQ0xDdQ6YOl8fWZWYpRBHxUei+j5PoMAscIIIeWIMx/fDTJowxnpMhan0SMIGAga30C3TGHyVqfYF3GBlnrwzy8R/6KYY5ouF3cTr8pGcafkOwfb0SOaRv+MvdwgnvMOb7BCRCRcHx5+TyizEH8ldyGBLchnuB9JECUDgcLwnuJWIzV5gtDrluk//5GcsGc/NEf2CZOwPvFkijqrnb5RjiBDKt7gh6VpdwECxLQqqlIlu9yYvrZgQVxeL3cBPE4O7wM3sWCQCtEE7yA9S8gnkCtlpkSFEeIFqn1GnitAktiqO35N5TlRQqNqQRJMnd7Ua5TuVIsyJzC/KuFksyas5RQRtJxVEiiFifu/j4qVd4sZ+TpUospGn1G+eTKUhIJAf1my8szy9NFsxzarttQpdJnKfbyr+8TySzlWgQCVCqDlYbFUXIl8rgLf82I4/QzYpVpJio306VSBH4/kYjVCFRJbkMtDilvUivpxQn6UU/IFOzKkELgCYm4BusyZOYT0r4MSblNc56IJ0COFmVIykzMGLMcQxnyEv3HomxklnzDxo0hAZchrbMUV01WDhcpQ2Y+IaWOEkSzuV8dXdTI6Jmg7FQixLPADTWafC3+grfnVSJEs9Ddo8MvdgpNIjMyS3r0IWZCekUpK5PYZjlDno6YCelolVuZI5GHgywHiJObEagIvsBtHj7rM4TnDOfnn0A0G5WhOUtkaHevZL5EPA4dMGVXqFIQ8Tjz8+/wTb3KHPkuWWGOqvqOQDwb5Gd8TxV/5fxUIixM44QqOxoTnxCbhh6iDPPdAQgxNDI09KVKrUsPw+mPKUWUoF5Jn57sQ0CmuJyZY/gpRzJ6915/cWg952gsAaMqI1qrRIn9Z45aEVnPOS7TKwPiMe6UP7EKGEpPb1ccVA/E6HqVI4F4ksRjPZY+vj4rx03x/GLptyTWJzeIoFvNFxpWxNdTPDVHfhVPIbk+Pcfx1L0NDU1q1qfmmJGfcb1x+QQCBszr4zluPil/6Z5g4sAB+klZPyQiz0J110g54CW5fiklP84gWP8kx2O+yZcNwHrz5YD1/rMQ8cgWYXs2YvXyRiyIwyvlgSIuF+C4dYih87Tqsiw2fIBFUcY4R65ZwxK1QC3V8h2tmpMJvsOCGMO8fdxGzhHxOHIdJzCdGlq1mLBRYjyXWB/eo6zg8GFzPCiO0PKiWq3hAblaHSGWxDxNVst6UBShRzS3KJ9vkcg3M5b0IVoFSymmIrwicZsNoTZBJAltyRmqHGe9HBP7DiGPO3eOkaSmPCmZ95zREc0RAWA4dEqT30YEfMQWBMIkkwVQdvKf5w26pBozdclCaLaIknbWk9yVlSOvzbqdx8hlgZWZ6Ym9YvluizzzJs0t50h+4XPvG39zsIX3zs/CNP6XRbmQclTPQsR18Ju9hZns2wSiSThDi3KhfBbyly3TsxAZ5i/PyGehrP8wPAu5zDU/f82izCWfhTPSSMOzkLKyLBfKe3fqs7B4uRDRBJSXAvFM2ACy8QHECb9iXkHlwn9VqbAgA2Xgt4gptuIveMim4Yn2XhuzkbDNcSEzLZ85ixyz01rm6JcxzVBuszZHnZ1W2pidCuRKa5VjT4gfywZVhMWt25pjL8qT83XBXahKI+DGzAfZe8CzWJgf/47ogeVVwq0rQ+zH8pzskGbxHZZ/KZL/u09e+CxHuANr8iGtEu9IQ2WARcWa6oBhsmTmhbAmH9KqU/RzVsx/zha6s/GGZ6GtjcGbjkf1V41nGzfbYLAiN963XPAkFleF9PJAQAVW5YS2975hSyKZIUkpNkkL6S8yljGP+1WKdOhFf9QvGOz53w/TC321NpIhCEnuoChyZrJ9Krq9bO/nH65YPsMlCrWiIMNCV5sqs/VIt1GzPZkojZQ2coM1mQlWZZP4JjwuDI0wZbZnkH3ExrWRL9WThu15E+i4QC+ZFjZuw9aK+BkKo7JnGSI2Hgy9F6dsH9jowYtzIbz2R3Q6UusbOF9xIa6jOolExvZlbFScEOYmqQA5Mwm1aHuETGStzyDtDAfAPCaaPmN7VUlawsYxeRMrAW3vfWMzoawramM+Ac3k2764jXQTMzSWzIft9tY2Hs2+RFIpsL2djfWc4Tjp2+CmdPEhCtN7gu4SEdvSshDqW8G3lIbfE6x5RDYjJgw7idw1F02WrNlhtJG/j/iEqoZyE/6AojMTa3yMpmgaczFeezcPY7s3ExGRJFjuI9u5E2fIhVTI2ODdQGIPKUepRTaUV3jFjaDFvEItlTYiFHlTzWaTrPQk5mbV+w7x3fDqkZF1mzZt2TK6ffvY7t3jExOTR4/Ss1DLODa7KlRNpwS2eWAp4SWwkEEm/QBb0S74hSfWjSMdeX/CfikDv9iGtR7e4gCsyIv/sdfHVNNtApspIvbwauit4MXv83IbvCa8HvqmvGl3TFnr7qGxERGPNwrdfu/hwkeURC6p2areP5IMG3kJUcTModsPiAPIh7GzUbJH+OXCRf46ErERp5mXKEYy3rj1cC6y1QBR4DB5E2VKwsZpCMxLAuzl5FzEAu+glI2066D5tzJObyOxW1j1POBcbqjcyukI1GJEGF6SwEJO5MPUaiOR10zkw9jZqMzjYHHojcvYfcuHjiUAy3KxlwvgZW2UWO44P8f37ZN/SuUebEwlAIQcUCbrNZEeoyRnqZKYmRI2in37uBN3CDdnvfI8twttM5sSODpwmWt13ctcmCghM2XWoXJhMVx/LyxfLnT+vbB8uRDG+WB5deBxql5UGEshQt8Lz6pPcZV/L0S5UJa5YO53WJMDIXZHvhdeUppibWV45cIZbvkoOX/i6NHJifHx3bvHtm8f3bJl07p1I6tXa2uoZMWVNAvfC13ZeKcyLES4zXEe2Kww1V81+cqF5uoi598Lo2+gy8tL5o6taerw98J8L7MFyJvxKkONVsAetzbOJkuWBeA8lirJKgoO/kL5b5AqK/rhv1hWCcpGWIplBXFsI8CyglSYVZRO2BgGywqCTBRY1mPL5odP8oBDrUW9Ssy/LT8QtRIYKPktFlWPkMPaLb94DFE7QhbOz/8VCysmuGN8tB6LLHgSxoHfY3GlYMQ9xYNYmB+Y5uPglhO56y4v2+oYOc0MVlSHP8Ig+AjL8/I7MupTeb+ef1X+EJafAbPxOz17WF4z0ihxTf7KgCx0VX2m74BhAS9iTU7YMvkj4UDVJsY8UYI1OVGWfcjnWJxyaiI5EkJYkxM2ik40mahc0ZmJ4gICtibKy4U0JPPkjzSy6svFNxF/CazJiVIuDFZUxiHYJaaWUcnzNdbkBYb5VH/rVnZJXzyHAFbk5QmYBhw8AENnWIHl+fD8zwN5MNXIKXeADD3sMqbtj4bdEZkwlZg4THsY2okcFVY9KOT2bAiMfPvHyIWpwkS5g7Ehz8Y/yKgHUqQj03mNDDcf5oKBykpR3sRJ+ZV4nIN8siNnnBenw9sHqHFVsTlT1sRYq4BDpAhyZrDYTKJVgVJebnv9qjrckiZqzqWViYntZUtw+iO3pYzKm6htKWxhomZ7sjBkIj8FcpsohuKfBemAdyMYhk1cSNTBrV1za1IwzUfv4ERTDpxJXhOT6TTnmFHZInssU0TTG7YvYaKIVlibW3NztnSGkiYewV+J6QBDJi7PqOEMc5vI/zzSWlsbTcy3fchEkNdEUiBIqu3S4aFOTtLE0J7Sti9u4tBe/zQZz5FCmah6JIRM3Opvlr59CRM9MlvEK9sAloXYbeq0AkqbqOl2EyfVxOzt009RNhnnmEkzMcf25UyMPfANmE3M2p69vYyJeZsRklIBWCbJ2v7InZy6hInR/dmTY/tyJmpfGCzItX0ZEw0vDLnJuX0JE2s4x0xhE80vDPmwPED7vaW9MOTBentrE7MfJunYb29pYl1OGMZqk8wXhgyyXhj0ZJm45+Rhb4SiHC8MGu57/PH7VKjY9kObhUj5BhjpH6U/R1v3HYkMIhfl7rMqg7N3F/URPN+5k5iGoIvCskh54Jv3HHp/EOvyvHDECWXwBhZFiPbgMj3wU/q5/RLbMr/EQhsir0iawfy8KVmAeTAqk42RHVi/KhPeoJIg0S0ptgPdGz0w7PtubOdD/mgHtvOJ7wiLA/SW7BDC0HANV0rAWazISyCSF8IK4PWCo+sQ3b/iveCyUFuFwYq8oCsg4ZkY/ajhLQ2db6zJgby93IetlqfOILCM+2MOeFRVbLUs/C5u0RPpL+V5BxgS1ILHva2Wz3h5/Q+vq+Do6Paxsd3j4xOTk0dP0HuTFs9EceZcuomhcUuwaT42eSaG+kP+M9bl4qhvIv9TQRin8E0kGxHAmhzIJ7l3osmVvQzyn+hJ+aTEVkYTcbnM0fHgTBe8XKQiCGJFXnC5hDKIfQPE0oDoIWRT4U0nDkxJJFCL85P31h2uY4yC7ZKwiVJdjz/wYvtWt7GD1J8FFOe1PIEtE/AmCDO8qyJ9cLzXCByqAusCzCYaT7XWxLSXMTPYRWRPWBWQYqLJRo2JvEinQBbqlba4ib6RFx/hP7i2kyZyWqJowaCMiX7BQG67iKMNmRhawFDxqEjxirNZhKFYZoE6e2rruIk8YlDYRJk8HMsJ8uXfik1EplGjChip8jk3e13+wTILUkyc4mjcxKFR6woTzndxRuWPZRYEJi6QPvKvv4DiwYIwtkKqXPhfWRUV+gVR7Iz0TOQiJZZZUMxEWU2d3dHXAybO8fWHZRYUNNGqkpFN9MAyCwqbKDfNaWRRE7epHXi/ATzWHvJjjIYM5+zgW0JF2W3aoATyY1K0KvtpKIs7ZRk978kyQbIjZEadHYBl+eDUZU2UORSpNcyFsq28iUVfLrIR+7gLf3ET1wSb2p4/O0plHmzr0shSWYe68tm/XOSmjInRTZ0JWSLfxJaOjCyeK663MFYvF7mp+MDLfsHUQOem4jwrz5BOTdWHnfflIjfVnxi8XORq2JGLiuePBtJ/VGPa0DfAgjjrB6gcKPwNsBheo2kH/QCljuEXxWInK9T03E0/wPLfAGEe46IfYORlu4iOzvsBlv8GCNN8Kr+ycaUEWlpXx8OyAKyoDBgWOt1YkZegH+C8EHK276o7NvmfhgIj898f+ZRKo7x+gMrEis+0/w1w6rJn4+NYlQ2/jbBR8kf+dWpicK7lScvPBBvl9QN0YWJwon0TT5w4OskD14yNbR8d3bJp07qRkdXDuiaCR2XBl41S/QDdmOhfLgSCWJEDfgcJ+gFyR0CKVd0PsPw3QClcBKyojA7cunM+AEVsBq8QrvsBSvfxIQsNrxF3Dh2J95oJwKlGJgqsqgIlnUJe1VicZFty3jIfZSNyYZyZmPZKm75TaSRyYZyZiGU6Mve5+TByYRowMc8ukQtTuYlCFB1KNwyy4k5NDlTkO08FJl7gic5bbSLlc0OOZ1W9iXY9zgxwFvSfp9XBsiqQ+S7Pqk/aFZg4pSY7rNzEhWmeSbQKE5cFT6ddvYqgChNBb2JRkAuzwkzEu5MCywqCTBRY1tOzotklxG/O/+X69b+c/40Qu7Cwx4Jx8ScuSIX4k/fJoVvcIYfyYA7ZzdVallvEe1AuxnviFiTpBvtFbGi1L4Xl1LzFEZ9ANA2fdOd5t5NfZ5OInUjgkg3/AsEM/HwDErabnZFxHKM861zHe38NtYz8+l4kbTMGP/RwfUUFlcUvqXvyaxR8jUOfq+UO6mYrJ0NE1zL6InqqXXuOHiryAwYt8J45rZcxU0THMnoqkmYIedCSj70gEreVQzw6cDpfH0JiFwQqvjM//w4p56n5nBBvqVD7VUy64uUpwXVkIVweRKAij5jqzUciv/xxnOmailOy66Q3p4hHHSpeI9nk93ulYkTDzqm4IESeiRyrxJfr2il5OfMzWgUItabtIsZVXPQ7vYdxehSD8L54x4tQCswoH0BM8aLbQvWGn0MtA10ouxxLjEwe58ufIqkLhke2bN8tzkKwGOqM6sDWzTM6cVRZ9BHUMvDRj7BB9cjG0JJ1hjqd+KPPp0U3yt3qELavNxorEQXmcMiJHG5WwhFt/SJsSNAaFcdxCLJJ2YPG6ohn7eeYyMkk7528MdRtK17X3W4Vh3lck0ky0zNnffi6dm78MCuo2vcnOxoFo3y1WMUxPgRNL6lj4kVVHHRrvHH/gFZ6MgaGXJDb+GPmNK0iP1BOZIwd6VDF7P3LBJ6MviGCe+R7Mw00qqK6mefoJ+NIxVz75zSejIGKXBQIXmOrV/G43CvCZtR1lK9vq6WK+2TOWVNkqheCPOMaUjKEfEMWlYr++E2Vq5gyJJ6PephkXccBgYrizPLyVXEZsRTjt4q1CGnA/hHLQqPisqplUm0DJVWrKLbddUTEe12G2SSPwK7LbWA8346CGh6z8QeNq7bY7p9SIxQYsiTE3Dl5SkH1KvKvQUf1UmY73FGgGrcx9cebMxtvuqUU2T9tgFDooohRuYpqyG3NSF2qeFWk02WgGjc9VK0GJQbjDwpd0/Gi+6eNEKpPRdrptr0iMehq1ktZKr7x6lrOeMHYKg7ukyCqsHmYxaDtEKpRxSS2D5MEIeNnRWjmr5zGl9x/G1RUL2WlRkwvZXz5/dPmCMmgASRwgqphyPNSlkphFVHDgFhBKAeEGsCvYShPIRVVDUMF+6dcEKqbUg+TBPYqltz/nbQxgo2pmKuGwSGl9y9rEhtVMXcNgyOq2n+DKpZ4KauE/DUMmTSkYumXwpLY1TBk0oSKBWoYKsW6hiEdrtvztQtCLilWw1AdrvdPmSPkiuI1DNVQx/5pBwg5odqXQntqepjRPhCqnJY8TOrYvysVq6hhKEO9+6ddIWTPLiFe/+zm99/f/Oz1aBc4mxqGW/eJ4+YhSzLY+Jg4/cE33/3w3TfnT4tHN2JpNTUMOTGKkIdxcQUFVZ8r3AWuSA3DkSJn8jbxAnYc8IK4TfpF1UMpmjCKkItbgk9sUS7zIVg/TApcDw+Yqh/EAzU9zFJEyNUPUHyF9Bq+shVkm9Td9pK+x1iFQ4h7kMopJUXY8DOkNfBUgWakls6oa8cdYqnIDcKOsiLc+woSGnnFpknz8TXyR5iHm9KQ5ogK1zKWFiF2CKpNNSLA8TE89i32Y+bbx5DWEZrzeCOmQqoIccH48+9lzPri4URGrwRy+2nsJY3Tt6vEleIPma0RMaFiqggJFWvrJcFOT0oe+AZ7UZD1Em/iGfDNAWxVJfwOJ1/kYyJMsQElVNRe0VJbh/wH9hImfjJ/QFonTESPl5bQ72wZFSUqmxDOfFFe1DFfvC6XE1EVv/mnEyeOHj06OTk5MTFO7N69e2xsbPv27aOjo1u2bNm0adO6detGRkZWr149rB15VIf8WMPF8riK8q5W4opeUMPX1aKiVzETuy/yEHoLcRWd3BcnPLmjhzvNh28nQjQt3xLit0YnIgbEntHSADqQiA3f/j3SOiIqwlVpwhJUlGEtPNOQR8Xvi0WInXQNjs9jmghG46I2bXgKiw0UKbtYUmXZJfJ1PjdmEbJVNKfA3wLl6EJUV46Ofp23wFSOrkDFgnU6BYjX6WQbb6RgDauhTqesiqhaYyFrqN+L1i/WryKhrV9EQHIhHMmhYrSaVzVAqOHD6cZHxenzXNfdiIqSeF23b8iimAnaRRM5VESCAPX90sFcTQaKqhj9Ol+UUA5hQ7JVnJ4KxfRWcLmzrIE5idjL04aCWvZfVEUqMWSqSGxnIbcg5pCQMf6c/UybVZSnO5QkzdTKGqymEjZmQZaoEGmxiqpPTihJlqnu2+kExlyQBevA/iZVjGBIYaEiodpsOXvcBMZwV5egr8ZgqShhId1M8uobc12G+EfRdhVD5DdVvUpW3/zIN03dEaf8XowDqSLhpClcNaYVpQEVJdzGv8oDrFtFcZd8Y/c6WFsdS6WmjrKQVdVcNOKLfudkOxVNROpxLeCNK3mVbELF0GVc6XVVgNpqLqrmLnlRg8ZVJOquuaiCsIbtUFFSZ81FFbC5vsFBqD7E3qGhvclhI2qruaieJlRktPutp+aieppScZ9xt033MCpCMyquEgcR0uK45qJ6mlAxQ0MFC+mm5qJ6mlCRBRJCtqJNxVXNRfWQmQi1kqY7EeaCbRRiHaLtpPKai8phA9stoqTamovq6YSIDAs5KV8psaBNdEVEiXrchGQ09AOsky7OBwgd5aukqR9gjXR0PsDt3tjxIqUfINK6pvvzAbahH2Dn5wNsQT/A7s8HmOaICtcyDsD8LtE+Bqq3SQzn/QChVWQ+QJ7ASU5nx7T8ok70d9Go6Ka/i48vIsnmzwdIkQ9DKrZcxljfK+6BR0Rvla76AaraOk9F2i1CikvdUTHWD1B1pFT9nwJ+EMPDq1ePEOvWbSK2bNkyOjq6ffv2sbGx3bt3j4+PT0xMTE5OHj169MQJ9c0nN+MhFaPzAXZIxYQvyit6LqbiN/+Xj80FR4dDKkbmA+ySion7oryY6RdxhZP74qQ3xJGnYnQ+wE6pmHhGc2fE6NSUzvsBQqnwfIDyLsmoNS0XkY4BWplxfQgDMX90C8ouAzAfYHXl6FVCyKleELOh2+Voo35YUaBOZ23aRC9GInU6ZquQumWkqlisfrFw7XlQvzg4Kj5WrK57jWw2VBxV1z04KiKBHblaGGSzslXkWcSKPV4idFdFcV3OLeW/9DRqb8gqKtYvtGIWwDRiZ11NcyVph4qqJHo1iCNBy4iqGCo+t0RFVdvpD0zTARVnRWiYuDb5Yo4p4JolUDGiYVtUvMpd3IPB49qu4gIer4i2REWu6gxVMLXeF2O0RcUovYoW9CpWQa9iFXRNxZ6enp6etnP7fQceF48fuM9p06CBZuNPxNNv/vmL+S8uvfl0Qw3Lu87d4uUr+O4iufKyuBtrenJym/gV1Av4Vb2N8zvPPdw+J861epqUV8sO1OoIsQNLauIBv51OjNo6OFTEvUK8i0LW8vK7QtTYLOaBX0CzJL/okoobRHzU8VdEXQ1j7jH5oaRDV/STutmSnnoCa91yW5qGpGJXni7iPHSL8n4tlSfaZ0rAtW7U4NxinPnsqxq6jd2dfLeJ8qtOvC9GBj+OsujeDdIvZkkXXNE0iyFz2fURbHwZUpl5uf0lwPE3oJeeNxx3qP2JX9b7GO+odIv8nANnseLKT5C2vRir5IFjV/SvZrSGZ+2CENP66/mRxKwLMa48hJROuP1pCHVWiJc48OF78/MyJLsM8YL5+afbXjOW5YiOXfG+NyGU10soIBDxzfuQuqXsugipzFx0OWDDAfQEIr+Lvy4GIv7ZRcfDCsl2RLeu+PgXSqfnfMU86PrmHr3EF48jdUtpWkRPOuV29CvEW7xAdl/jgKTdT5bNr0OoNF7fjNQOePxLyBSIqJ7JFOCu0ZKWe+KezyCUz9KMmI5NP/jZHqR2wIE/K51e8/wOIpKGH3Jccqnd98TDNyGUxyw7Q7QMc/NhpHaA93Smq1f2xvdEpJfGQMO2P51Pfg+hwJLsUb4QtORmvj+J1A7w3xNJtlflXxYx9FCRtPw98eS/QyhwJtSI28eliEGJhS8Byav8UGE+xiqkbSkPxy5nMhyhEDcPI7ULgrKzGtVAnLo2/6kK8VgHxJW/Q9qWEn+wkOEIhXD5YBmEWpz4K45WRJevOKHr2UjLr+bEy/Y5IWtoF6MPFrcHMQA123HH41tRbPwhx57Q/W8s8QoIeschIuMcOK2AIAbga5/mHhjDpScMj2waHTtsUJHPpxZs3RoeyqyUfQQpK0cNW0/8d30LCOP5bY+I45MYrAqWmXBosdq/OGFoi9MBEdU8EEL8z+Y+VK1TFgwbWoV1QETPD5r7ZIpBb3lgO137xA6IOKYOYR2p2cjHe+zff0okW8q2XkQ1X4EQRyncRDMSdSVPbOeLGWx8VDz95qUv5r/485tPi59sNL84tEREvpLkg0VFxfswj5HrtKjEFTDMzzQ5nl1ssO1I74F2i6iupE0kpTfl1RNPwT6JyfjKbPf2TyQnOFrn76bNIuJKksFgRpxwI0/HIqr970YsgRAjXgj7TdC4iMGVFCNobuxUROP+gZQYwZAdcht/QIPGRVRTEnjnOobX8B22xqnC9nHegWH/ktDqwA5p0pKYRqxhEdWVlDU/mDsRN/H+0yaMURaqsG+Hmt171o83KSKuJMTMuBJR7T991kGZwnNF344ZDi36Y6c0KKIq56VcSR6ORMwz36ByRLhi4HkqJK7znwZFVFUmuaZeciKieq3J2j8nIvhUJ0T0KtwrF/Euuc/ExKdx1PydOSdUsxNxjcz5OCImLCZ0o3ReCPt1LuJdYhv9Zk3vZzdzZyDitNwsY2Q7w/y1EVQByfhaE4FSeiHs1xfR1QBieWZ7ynclBfjGn1FjmiOWZrt/4Drs9k9JvRD2u3yOQ87GsluTnZ/91IiBsbKSLNdDMUVE9azIv39K7IWwXzLhKv3mOptF2CZW7RXHw/N6x7G5koBnLIaO88eETBPRNDBqVgEliUbE5Slxbs7diJn76KGy7Yh5bNdQUT8/nvFzEPEM/0mz3TiPcoH9U3ovhP0SV0lGBInKRQx+k9heScAzXr3jBpeR0fY1/HRLovZvrGrQQ1t4Iew3gRMR12pztb+SgGc8ylmZIhpGOS64//pF3Mr53anLNbWqIRXPeO9y9tpDGGw3aJhZ1WCANvJC2G+CikUc4oEGjidzLXQlAc/4BfXxhR+NHMD6KHoNs6saTNBmXgj7TVC1iAfFwW3JubTzVjXo8Y3nyif1kibR206PNsmtiDJ5qhpMNCDi0F3Hk2PX565q0OMbPyem56Z9RzSKyITPo10BKQZt6YWw3wSVi5jEoqpBT2D84hkxE3xPzWm7bQEpBm3rhbDfBM5FVFUNxa4kYDI+l+2l546nrb0Q9pvAtYilriRQRsQCBaQYtH0QMoAEbih5JYHiIlaxf8oAoUYofSWBoiIWLCDFoCwQaoLyVxIoJmLhAlKMJkUsVNWgp5CIle2fckGobqq5kkABEcsUkAhVelVQPgjVS1VXErAWsez+j4d1a0jE4lUNejg7HVgfp2hVg4c4Eq6GMu/HISWvpNIUr2rwWBupy6PMEKqNclUN5SlT1RDQrIglqxpKU0UBiWhSxNJVDSWppoBENCdiBVUNpaiqgEQ0JmJFV1JhKisgEQ2JWNmVVJBq99+IiBVeSYWotIBENCFilVdSASouIEnZJEEMIZdUWNVQCMf7p7wRckfVV5ItzgtIlDtCrqj6SrKlhv07F7HqqgZbylY15IF2gJATul/VkAfaBUIOGIyqhmxcijggVQ3Z0F4QqpqBqWrIhvaDULUMUFVDNrQnhCplkKoasqF9IVQA05R1NV5Jm/c8fPLk4T3R8dVq3D+LQDsrOG/fxsfE6Q+++e6H7745fzoyZZ3VlbT1uNi3CmFrdgnx+mc3v//+5mevi6B3TJ0FJKMIubhbnP0WnyUl3571p6yzupKE2LZDiGIqPiIig4ZdFDxYfp0FJLMIebhNvIANA17gYcaKFPWz+/lpGBeJwa6uiHG4YS1VHWYRcnFPdIw4sCTuKXYlFRFRaAdpekPIm3w9BSSjCFifwQPG9gb/QIdgfSWtFWsRys0tpiGaLou/qemZbBYh14xzD/wSyZP80rqAsm3bkQLTFpoHaKphciUmTYQcKt5jOgUS6ynr5OWf1fM4gXF4JuKrWlQsKcJtaZtTBvaDWK6yfVV9MjI4U5zzNUzdV1YE7e00YKmAIxj7KurZoJv1MMRT7qeRLCnC3cnHepQX7Af2tRQx3QuIAufRjrIiZB6B3SHIYsZau5vivfEZTBO84npi2JIibDyLVGbO2hR+5HNFHEEkH9lH4NoVdSKcCXduzhDhsXAxR75QSKLjhH/7GNI6onkRYyIwJANCTKoIsSNgDaObuz6EHcGMzkbedTthtu40xlVIEeH200ijmFFbBmOzMaddTEVywitL6o4ggZPz6FWPxkRQxEVMEeG+6HzACSdkPnAxKc4Jr0ge3+MincnI7UjiRkTUMsdEkLM7nUtIkSLCgW+QRkH2eyNWhPjGxfRMXMElZYyJKBcTsfc2VyKyjDERFng5gbgiRYTHv0MaILf1hwj0+I6zdMNEQsSpG8vXE0aI4eHVq1ePjIysW7du06ZNW7ZsGR0d3b59+9jY2O7du8fHxycmJiYnJ48ePXqCQN45GYmJQIsW+AGLuOI782xp4j+QBqin8yxi4Ade6IiJmIgMLUcIqLSuiIiwJDCMUNSEH8wXQ9wT5WCLRLROxaEn0vUcF3GB7ikEYoAXuWE0JgIJIP/QGo56pHhi7HbAzMbnQnF2T+Qni0EuRIE4cYIuVbpg6bKli5cuYbqQ6XKmi5oubbrA6TKni50u+WGCd5CN3I38+BUVYU4vYooI932ANGHiIp5383TGO07U1qt8M0mKqNJWi/f9MCrCDfVUi5uQIkLsFWlKbn45PvGgk/dEf4DwqK3KD+oRcTv+xkTgNxQ5ASPiijQRoilpSwZR4OQIfKIlFvVkIxBX1FpimYIFMWmQVke02Eh+QMReL779e6R1RNRYnoOTLgZEFW5PY7zsLC2QI9TJ8B9kRAu2lVRdi1OAqF5aHIuYIoLRuIhJ2Yfg+AjaXZ+YT0QXNduWZJ5Hq9MY7kGfF7MI+UR08Y3Fkg3h6S80WH1jifSgz41RhEwR78ctMgkSSuqYsu6JWDVKlPefRLI8RHvQ58b4tS9TRHMC/CWsvzsXorrvztEe9PkxfXeuQkT7FhDFSLSAwCWRBBuYKSaiqQVEBSJyW5xiRtmRaItjss2ZiIa2OKVFXBL3qPaddbTKirUKq19EfauwsiKG2yd680g5JNo+sQERte0Tw3YshSta84gYbylb2DILHgq1lG1CRF1L2ZAdVBAM1W5li3haPJZos11H74ugzXYzIlIJ8FFx+jy32f6ARQjsEGLBTsR4tc8oy1jDNS17Dxw+efLhPU2JSER6DwR2yGpOKxGRIIS6putpsyopKiKbWfrmE+QQsSNTxAuhj6U6G2ruURXYRntFSFJWnnwUFFFOkY6gyVJ1TWdNc1YRIdu6I6JACxLGZKnqr11L37SwiOH2EG0W8aoIn3CzpaxiHf2dwyJ6E9pI2iyiuJ5PRPR8d39NB8bcEMuLU/79usUinpmipblErGsMiMCYc/R+FjRxaq+IizKUV0TeRbAXR4SMOSfPsGd+cyKqo/bjiQR8nvOLiCKM02qJsPHyx9mcg1ro6LwQ9psgKSLwqqOyLXVeLRESkZsXeRUs7RWRsfBEieNqCd+YyzLkbLo8A3WJ6LhawjdmWob4hxkwEd1WSwSqyfYYwWOx5SKGyG2pu2qJQER5oxZnbqAx/gCK6K5awrNtgQNXO/B0jmNjqaNqCZNtgymio2qJlSYi77Pqaom6RTwuD8EfRIXCCJlbiSBBZSI6qJaoWcR9x1fJ+dIRC4mYSXUiOpgFA6bEcSQiE0yC2ZCIvGOLfWfRhIhBX/fGRKy2WqIJEQtdzpk3TVsqrJZoQMS1wp8tvbgEVVBZtQTnowPrHRAadMHpfrKpr7VE1YR1a1jEWltLVElEtsZFrL+1RBVEVWuBiI2PP2vPcTXL9jZE2yBiza0lKoBLfcKf6puCCNXGPrn/OxHxqLG1RPWQ5QjVxVqxZuhWzV5ZxeZGhy9D/SIyWzUDT9bVWqJ6GhJRP3pn0zNmFKUhEQ8a9soqNmJRGRoy2TjIWg2tJaqnGRHTdlpbJ47qaETEg+nDkztuLVE9TViboWH3qiUaEDFTQ6Jb1RL1i7hVHOSCJ6ImulQt0YSICkSNdKhaIsfRNEY3qiXYSGId4q2jC9US6inYYl/EeW53tQSb2F5HlLS/WkK5IiJtpfXVEtK8Vjsiwyq291xLV0SwzYSqJdp4f+yCI0q8aonJBqfaNjLSBUdkVBGGQFyhnbevVkyTF7YT74UsuKD18/bVycafiKff/PMX819cevNp+3n7GkEVYbwbkH7evjq5W7x8ZT7gystW8/Y1hRKRL2jDvH01cpv4FdQL+FUdA86VYwIiHiU5TfP21cY94hqUC3OtniHnSrB7AkPc/yfzvH23IK1rHhCQLU6+eftaQAvm7fsFNEvyi26o2IZ5+6CYjtZf0ZI2zNsHvfS0/+nSinn7dM+UgGs1Pt8KYuzF4OH8EO5OvttE+VXb3xfbMM42tDLTdleMOOJ1EZtljHF8CBtfhlRmXm55CTAiIob8j+FYxJ/4Zb2P1WurukW+RQFeSlz5CdK2k+gsGHoRXc+CAaXmTykJhTg7P/8pB7Ci7ddzVDS9iG5d8fanIdRZIV7iwIfvkWritbCIT7e6Ziwp4tX4rDqORPQ+3d73JoQS4hRCxKcyHoj4povpkSojISJPKhN7vLgREV/AD1xSOr2De6FPWMQ/u5ioqzISIoqrcnKeaGHalYgs4+NfKJ2eC2nGhEX8wjxbWgtIiCiHS4zPxOl08kNPKQqrXyHeCi0ArX6yJO+JBJnPUQ8+Mlf8w5eQKRCRns7+AkXHPFH+IfM56sFH5obRoQN/VjrR01gFdCJe6tY9Uf6JTx3odPJD7+l8TYjnOKATsWNP5zP8ex0LFI4eLGryQ/89kd61X5V/dSK2+z0xUWJRIK5wU2LxJj8MSizYN2spX7Uln2MV0raUiF4kIr1rxzR0W2AJl53pVVFyit4XqfjCqJfIK3+HtC0lJpgOxyLemaMWJ96LtmX09YlVkOmKzo+g+zXb1c7bV4zuf2Opct6+NQfFvuyuSQm6/7WPHKGq787HxZF9QqxBzIJuf3fGi0SSPygN7VpA8CBLhdoKR1tAwIYk9yN5uzA+VdSKIm1xijW4jrTFMVuF1O0iXcRCrcIKtloPtwobIBGLtU8MjT5nR6h94sCIeFE8gjR2FHREid9SdmBELNhmOxjUtAgbHxVPv3npi4EREQksydODPR3uPQAjEqwIEctryKxoESvScGWLiFfirYgWpqsiyukXw5WxjZob2DEjrQomvWu5iOrbStDyoR0iXpACTgWatlxEJuSK7RBRNSII2gb1IuYnEJGv5OAC6UXMj2fGDRUIzOqAiHOhdkytEHGueyIu6ea5bATPKsx11yURI60SWyFi9y7naMvOVoio5q9cFrMcIdouYqx1bEtElCGexVLRchGFmJH4DZnaIeINMTV3JnDE9ovItOO1NnC9pRlx5gbCRMtFjNMSEWP0IuanF7ECehEroBexAnoRK6AXsQJ6ESugayIaQYJGgAkakKCnp6enp6enp6enh7ljxyG8Kwcc2nEH1vb01MC9x8jrnv/dJ9yePcwnv3ue1hxz3YG1p2doaMN+IX59EZ6n5+Kvhdjvvhdrzwpm/ZPiX/4If0vnjz8XT6zHVj2OuX3zfXsOPPz4SXHy8cMH9ty3uRvTZJRgpxC/h6Pl4fdC7MSWPY7YuOsxeh06/foHn31z87vvf/j+u5vffHb+9dO07NFdnZhupAC3PCieSb4YpvPJM+LBuqY5WHnc/YgQZy9+iw9Vcb69eFaIh7owa4slO8Uzf4V/2fDXZ/r7ogtuGxfihcRcOwmuvCDEeBcGLMnNeiHeg2/Z8p4Q/ftixdwjxBtLcLYslt4QnZhwJB/j4rfwqyL8tt5ZsQadWx5IjvadzmUhHhiMl6T9Il952cQfxX7k1FOaB8QvjdNmGVn8ZWcmBUvjx+JPcKmi/Kn+KRcHFHoupwwBl8JXA/CMPibS67HzcFEcQ249JbjtSZE6fVsq58UT3S677BJvw53CfPrO2ecE8dzZtz4OhlT7/L1X5dKXXsMUGAFvNzOf72CxQfwsbzlFx9JTossfvu4Qz8OZfK55o2X78PwW3lRUilMYj9zjedG3jSjJ3eIF+FRRXujErNAGDolYdfY1vhcK8RrfCy99+OopzCpA/nn2w2vz1zDAu/hULvT5RBxCjj3FuFdkjp2eySuis41TNovfwJWAuvO9lDaE9uecRLyDKPiN2Iw8e4qwUZyFO5XhrOjqN8A94jw8SaFmL4w5WRxOE090XuxBnj1FeEyYvuvZ8K14DPl1jcPiL/AkBb8iqil+jOCFMXbb/It4GHn2FGCHiMxTVJh3hdvZV51xUlyHJynYx9Td7j0OS05FisqX1MJYiWX+ujiJPHvsuV2chiuV5bToZpuxk+Lf4EkKdjLliV7JhAjfJFXBWk2kG6b3xDLcJ1JnhrHgA9Hqef6MPKx7OvM8fCD2uJYTiROJ+kT5dD6MPHvsOSC+gScZmeOZkyXn0modvxGtnrbTSLzE8iEf6oeIERFPVOWZ8OqAvsRShsfFd/AkA5eV9Io5LNTxnWj1LLxGErU4aiLN1xCLeOK1l3idoWDd1+KUQYj/gCfpYUecUuO/L0zzIJ8GfujquCWJmm2UjE+9dYkKx5++c0pG2BPVgznw0Sh9zXYpsu6JrH1oSEozXb0n6r72fczeF0beBlFkDhG5OfZf+0qR8Z54gwVHJJ2uvieaWkB8/NZZdTd89R2vdKKezSHCrbz7FhDluE98AE/SYuGJ5ztadiaqaRX2U+TWU4is+kQuN19AJJWu1idKHqqgpeyPkVdPQTK+saiboiyqLM5NhafsiNPZbyxM+d4Df4ucegqT8d15ya9NJMw3x2/F3yO/btL3qGqe7LY4N2bPkBfOXAjm8kvS3bY4wLqX6b+qi9OGdk7a3h5WaPvE0fGJyaMn4COKp2163ucsyIXoB4o2MDw8MrJpy+j2sf0rs832JPzPY+JvrEYj6T2xArZA+4CnVmI/lt04eMV2uchihKbeE6tgBOqDE//5iRJNct4XT3axb9/wWOTRvA6L1z8hfp6rHN17YiWsg/7M0eEV1995ZBzHDqQEPjlH8uw9sTTrjir5wZhaunLGgNgUHD9ui5AgRMboxj+9d6j3xHLEnknEJqxZGePihI9/Uh669Motal0C3Yjv/9Ub8b33xBKsCxUXJ0a2yz8nwo+ltLHCeCM7kGl7iBz/aiwcPzGCUAoTkwgE9J5YkOEtwc3gxCj73yaR/DRgHD/RWviW6R6+GeL48zNBN1AEfXpPLMLwGM4BMeE/jodWjyIQ5e6HRHJM2U574kiowmYixy0wBjli0hX1giyo71FzulfuFe+J4WfSbu+ZlMXGXY9S8tOvn/fG2e6uJ4YKaCfGLG+GDDtiwhV1gsxSsjNzc7PyW/11LAtY0Z5Y6pmEuQcO89wD3fTE6PFjoSVwxLgragSZ9nv6LFLyRFeLleuJ4UqzAs+kKB30xGgBDQut8R0x5opJQS4IMYvg8nVKjqDPCvXEcKWZ/c0wScc8UVNAK0bIEaOuqPO0UI+fSESxAj0xUWlWAV3yREMBrQgRR4y4YkKQJVofNJyjgku8T24HPHHVXXuP02Hs23ErFpRBW2lWHseeuGbHQbJ339ZViBenUAHNRMwRw66YEEQ2b0eQmOmgJ+6iIzi+a9s2Ohf7sKgoJQsoaWg9cenqDBUTp88ly4lWuq+S1+GRffvY7jVYWARHx68yRMQjKQil6fLTWZ6FuxAuR8lKsww0nrhAXjg1Ozcna9DOYFmAlSfeidARyqrog6HSAloElSciHklBqOjsfy2Vhef416qWeyJpX8kzuWylWRZJ4a+SH0LsWboxqlBAId3Xkv1rEbai6gJaBJUvIh5JQS6HVDin6fTTbk/cKsp32K6i0iyThPDyBd3/klDV+/k2ytT6VdFFAS2CyhoRD81Dgi7IKX4kL9Dt8RwvCtNuT6R3o4PyLYk5WOAdqZpKs2wSws+JUKfTSERRRHd5S7R8VXFUQIugckfEQ+OJywvyRYWZ0TQkab0nHt+m7gJ0e7Q8DZVVmuUgIfyF8GWvqcgtoLtUwObZ7LCAFkHtAREPnSem03pP3Ibg0F3klQjmIFxp5uSZFCUhfKSaIlqDwVjrvoaeDXsRzoHbAloEtRNEPAbNE+nFyK+6kc8mBLOotNIsFwnhK346rzpIbye5XxHDBbTdbh8GhNoRIh6D5olr6BC9svOufKWXup5JURLCy6IzgvyuHi8qWulu44e1FNAiqH0h4jFonsilRX47vFWeDF6UhrtKswySwk8FzU0WyJoStWcWflhXAS2C2h0iHgPniXwaFJlFZ6eVZhkkhZeVt7Psf1R4CX1xBRa6q48rPluxOE6dBbQIapeIeAyeJ+bEeaVZBjrh6e1QMaUZ9rhi3WsuoEVQe0XEY2V6Yh2VZhlYC1+l7vUX0CKoHSPisfI8sZkCSoLGPLEFx692jojHCvPEGivNMmjGExsroEVQ+0fE43611IbOjlpXb6VZBg14YpMFtAjKBkRWGvVXmmVQsyc2XUCLoMxAZEXRSKVZBnV6YgsKaBGUJYisGBqrNMugLk9sSQEtgrIGkZVBk5VmGdTiic0W0FZxDTsiYdieFeSJDVeaZeDeE5stoK3aS/uVn7sQD8M2rRBPbOMzKYp9pYVNnUXzBTQhdqwytYZSdiEyyLSj0qw52lNAW9Ge2JpKs2ZoVwFtxXpiqyrNGqB1BbSV6YltqzSrmzYW0FaeJ7a/gOKWth7/CvPE9rRqaIYWF9BWkie2qlVDA7S7gLZSPLH5SrNmaXUB7c5thBwsS/6NdTtXJiPSedpTadYMbS+gRfrSxHq2qYWIdJq2tmqoi64X0JTliHSXFrdqqIUBKKAp4xHpKG2sNKuTwSigqQNApIP0lYaDUkBTx4BI1+hbNeDgic4fvzoMRDpF36oBRz8gx68OBZHO0OpKsxoYxAKaOhpEukHbK81cM6AFNHVAiLSfvoAysMevDgqRltO3asDBE4N3/Oq4EKkR3Zz7h7w593UMYqsGGxEGtoBm7QnVce8x2teL736N7mkBX7/7Iq05di/SBTirNFslv8YrjpSZtskeKxEGtYBm7wnVsWG/EK98if3p+fIVIfZvQHrCZaXZXUfuUqOsSo80jW1ZOXYiDGgBrYAnVMf6J8XPPsJe0vnoKfHEetqivkozcsWy8/nlw1oEzxEH6Zls7wlVslOI88g+D+8L8V9wDgjnz6SDFUxjlQN7EXYOyXLKQBVQiohQGbc8KJ79Cjnn5atnlRfWUGl25/E6HLGgCA9uGKQCSlERbsH2JdkpnvVnn7Ng8Vfinxw/k+TwGMTxCuY8zqKoCM9WeUtommZFWB+aCNWSy0JU/ZagYe02Oauf25ti60Wog4ZFGBdvILcivCHGkY9T5AzQFrOIWdMJEVzTsAj7Rb5SkomPxH7k5JQddFdE0AEdEcEtDYvwiLiCjIpyRTyEvBwiJ1TbgXD1dEQEtzQswjGRXnuZhy/FMeRWNeR+R/Zu27aDZ7CynPPYgnaLUBMNi7BLXEQmehYuzJAPTJ+7rJkzOuCis9LErVv3HmF3dOeG2SLkw50ItZBTBDlzcMp4poVFuEO8iCx0LEzxbgHPqG/gRVHLF3E3pIuQnxUhQoYnFhbhkEh+3fa5yjs9t0AueXk63RO/FoeQY+sZT3wNShXBgg6JMJaoBM4rQpYnFhRhs3gdGejgfQYzuqfyutiMPNuO/FA+EfbGdBFs6I4I8syOhb+M5RYhyxMLirBHfIbtdfA+p1NfEH0+E3uQZ9vxmmz43pguwvKCfFEG04lZcyN0TwT/O22WCPRMZM5d5z9YrKOYCIfFTWyvQz2dhZi5jgUp3ETabsHemC6CP2euYhaLtdwUDytdXTGsWC0ZUayTbFJsYUaZ7cwYs5sZZyYYHA0zLr0xXQTPD32wXEcxEU6K77G9llCJZTrDG79Huu4x8Y+pItyYmsNTQU5pn5zUPsyginBGJlEPR1yYvFjP9+IkvMuGk+Lfsb2Jq8HlkPrG2NWTQHfFbBEAb5BWbuuqCJOjw2kiqFdDXIKZ74nFPPHh1Huyxw28KV1AXMdNcRh5tp2gaS/eFDNEuBF9NKV54k3xz0jliBOKo5JJBT9s1YN3XD2F1RNZPZ3Vk1o9tdUTnJ/m6xLtm9NE4PvgDCKZnljMEzLeUwP4bHjG6Ojay3qo9JwqwlKkSpVI88TuiKB6f4VamaeJcFmmnUIk0xOLiZC77J7piV2qxQl5oSRVBL4f4GEgg6me2B0RJuN9HdJEWOQDv6oisxxRYS0FRUirz6STMDV7nV4PFtRr6lTKy3qHKnWTpImg7gdUXFtQpyDNEzskQrJ1c5oIF/jIzy0uL57jUJonFhUh7RuPqjnywTWhZ3A/dKmzEJDiiYMrglefR5xhQbBcQ2ERUr97L12d5cLKzIWMOpyB/vh/Y5beTaZmLi8t0d9pc9P6gRZhUYowPUvX4XV6cw7e06R72IIdxqmmLdBPkVtH6UUgComQ+sqoxdze+aEK2kc+grw6Sy8CUUSEKj2xgjbjP0JOHaa9IhjnoK+eAiJU6ol9ZyJJO0VIm4PeAfYilPdEeZ3Zgqwi9B0sCXcipM1B7wJrEarwRKzIjW6Lxf8n/mkLcuw+OTqd/0Fdkxbcj8xLUKMnWve8b4cn+qORJFsAd5PsgTisZavCh2r1RMvRSNrgiefrHaGpJnYK8T4OUMcK8EQiQ4QwjXviR0+JJ/nVaDRo1SHGOOeus/4J8ZSxCLkyPDFDhDCNeqIcv/FHofEbI6NLD8RIluZBLFeKJxI5R/LUC8K9DfQtZirxRDWm7U81Y9pup+XgxGAUYfQD+64gT5RkjG5MnqATZEG28ab/7jxR/Le0cb5DI54PyHN6SDfYOdTIS7c9kdGN+O57gkaQG2LqMrfkcueJ2NTMcGgWjMmBnAWjbk9Mm4O+btR5RcTDKEiznigZVQYznZ66U0vdnpg2B33dKCMQ8XDoicb+rPk1HRnM2cIkWmWWZEtiQ/PNkp7YJtQJRcTDnSdeIE1pf4iFsdM0PIPi4HyFMch2Q4hpBOP0nhgnpyfOCLFAact7IrFlAIswetno8jV9re09MU4uT1ya4v7VtD8sCFNE0/BEfpOD8JzWCx/0fEvQe2KcPJ5IDxnemPbH8ShFNQ0VYbpf1ahV5rK8JWK8jHg3l94T4+TwRBJUDfNA++O/UUpoOhJ+Tne6tYRWmWkxtTQ1dXl5UVObuxI98fIcQe950/Jvogdatiee8y9o2p8KRCinaaSqsbutJXTKXKeHs5KOQr0nxgYrSAwckumJ5IgXpA8TtD39xns3l9d0AFpL6DxRXv0qRBrGO0GuQE/MII8nRnHyxtP11hIa4entGuWVRSHOqFBA74lxMj0xBO0PoTCVadrl1hIaZWb9UdQolKjf7j0xTos8kehsa4mkMkt0COpFhm6Jyfrt3hPj2HjilPaLQcWadrO1RFI2eqvGOLMUotfzpZnICMi9J8ax8UQ9DjTtXmuJpGxkOt6o1ZizZ6JDcfeeGKeVnkh0rLWEtWy9J8ZpqydKOtRaovdERDwGyxOJrrSWGHhPXHXX3uNCHNm1FvEQ6uwg4qEW2oFNQcs8kehEa4kB98RtUvx9++RMicnJtOVCB4fTPk+UtL61xIB74o69q1TgLjoD8dEg1XlBpDra6YlEu1tLDLgnBuyjeyOCHuqcIFIdrfVEosWtJVaMJ5L08Xnd1QlBpDpUtnZg01poaWuJleKJdEs8gqCPOhmIrCja2FpiZXjiKiqyxJ/NK9kTJW1rLXE/jMlPBaPW1Y3sX70G4RDqeBBZiQzi2BJtRhabtX381SlAZIUy+GNLtAajH/ae6DHYY0u0hBQ/7D0xxACPLdEO5FBQIY5jMVALERlg1uyQQ+zv24pKfhMDOrZEF1CqIzKorDpOx3hknxqPSFNsizCIY0t0AaU4IoPKquN3IiQ/vt+KsJmBG1uiCyi5ERl85KuKpkWShoEaW6ILKK0RGXxku6SMV8WAwRlbogsonREZeOQt0Wro1AEZW6ILKJERGXS20qHmezaHGbyZOFqJEhiRwWYNlaATLYXzMXgzcbQPpS4ig8yqg0IczP2KqGHwZuJoF0paRAaX0n7I9K0lHKJkRWRQqcYPmb61hCuUpogMKpHJHoTYisVF6VtLuEDpiUhPXvrWEhUSKg4qJrCiJx99a4mqiLli74j29K0lqiHiir0jFqNvLVEF4fpaLOopQN9aojS+K/aOWJK+tURJ4Iq9I1aAobXE6r7hRC7YFXtHrIpka4lNvbw5IVfslaqSaGsJ/lp9oi/J5GG8d8TKCbWWUOif0HfsOIT1AYd23IG1K4ReBMeEW0sQu7HY495jtPDFd7/G+DYBX7/7Iq05di/SDTQswvO/+2Q+zie/e37FiFAHI6Smz1EsJDbsF+KVL+F5er58RYj9G5B+IJEi/PoiPE/PxV8Pugg1sQ4+6KFa7qx/UvzsI/hbOh89JZ5Yz9sMHCTCv/wR/pbOH38+sCLURrjFjmJ0aGinEOfhaHl4X4idyG6AIBF+D0fLw+8HUoT6GV69btOWLdu3756YePQfxLNfwcfy8tWz4sFbkNVAcMuD4pnki2E6nzwzYCI0zE7x7CL8y4bFZwfplrBTPPNX+JcNf32mvy9WxXohLsO3bLksxIC8KpEI78G3bHlvYERomHHxBvyqCG+IceTTacbFb+FXRfjtYIjQMPtFvvKyiY/EfuTUYfaLfOVlE38cBBEa5hFxBS5VlCviIeTVWX4s/gSXKsqfui9CwxwT6fXYefhSHENuHeWYSK/HzsPFrovQMLvERbhTgjlZzziDSDoXE/OLdYpd4m24U5hP3zn7nJTgubNvfXwNy5hPz9LSU58i5vN2t0VomDvEi3CmJBaeuPyi6HCzgDvE83Amn2vS2SK8hTUfnsKCS1gQ8HyXRWiaQyLZzsHDxhO/FoeQYwc5JGLV2df4XijEa3wvvPThq+R9Z3kNVkiSnvhJl0VomM3idbiSBhtPXH5dbEaebSfRf2Kz+A1cCXzMnvZS5IkMnhOvfT5/idcnPXH+N50RoXXsEZ/BkzQoT1yYZt2FOLOA5Vo+E3uQZ9uRxzIWbh68R5yHJyk+5cN9BzENRk883xkRWsdhcROepIE9McwsVui4KR5Gnm3H60PhD49xWPwFnqTgV0T1MNZj9MS/dEaE1nFSfA9P0qA8cZq/R1/mcMonwe/FSeTpiGHFasmIYp1kk2ILM8psZ8aY3cw4M8HwkYBx6Y0nxXV4koLXqFviexyWnAo5ntETr7sWYXA5Kf4dnqQh8p44KyNnENHwvVzfSSb+UfwbPEnBS5UnvsNhJnST7D2xeh7OfDp7nqhukIhouMnru8fk6PDDuqfzq4hI4o/rlKfzYQjbY0mOEks4kuKJn4n/wymccUJxVDKp4IetevCOq6eweiKrp7N6UquntnqC89N8XdDX9sQoF6PjJZYPeeWHiBG5PbEvsRQmuxZnCiXmKRlJKbJ0pxZH9SaDF0oStTivcYrXELPwxL4WpziZNdvki1eXl1RwGis0dKhmezLshUyiZltVKIpTb126Jj/68VeVHJ7Y12yXIPNrH5dUFGmVOB362pccGEjzte9j75uejyrC8O0xRMQd+699ZUhpAXGdnsj0mrh4YZpuh7M3sFTLQLaA+Pits+pu+Oo7vsOpB3fA51gu6VtAlKOaVmE/RW4dpZpWYR0XoXEeqqCl7CPIq7M8VEFL2R8jr56ilO898CPk1GHK9x74W+TUU5y+RxXR96hqA23sZbrGn6jGn4rdLX0v01bQup73a4XYu4b+3rqXfHGfWuaavud9U6hbjh1wQaae0UiKTTdciJTRSNTR24FcezJJ+46sJ7zF+ZoGJ5IzsNfkiYRphKYiWiHLnkxKeOJHT4kna3o1kjNsIlgL658QP0+Wo3tPdElBT5Qjef6otkEsqeByBMHa0Izk2XuiS4qoS/y0xoF919D+tiFcL7HRjXtPdEnr1a1w7utihEd8hwS56T0xPy1Xt3E/DNN7oktarW6r/LD3RLe0WV1Zi3hwn8+tWNwYvSe6RKvu4uUZcoIzF7SfXOr1xBDyc0uj6D3x+rlpIaZmri4hHqb3xPxo1JVeODUzw71WNJ+iV666Gq2WzpBI5+bmzknNkhdu74n50ah7Zg4B2WvgKsIBvScGLJJCaMh+lYIJV+w9MT/6Jw4gcT2vDOg9MYDuiP6leiHojuvTe2J+0jzxBnnidYQDek/0kQIhGIuA3hPzk+KJS/SmqOnL13uiz3V6OUSQ5CJPjHc56z0xP2ZPXNA+m3tPDDEXeSD3nlgKkyfKQuG0rmKi98SA/ulcIQZPpGKzNwZJnN4TfWTR2VeJCs+JcdR6T8yP1hNT/LD3xDDnQm/S9FadKN71npgfjSem+mHviRGm6UbItYhUeNF8Bug9MT9JdTEok8c5LPbpPTGMHK5FcQFLwvSemB+duun0npif3hPz06ubn14rl/Tq5qfXyiW9uvnptXJJr25+eq1c0qubn14rl/Tq5qfXyiW9uvnptXJJr25+eq1ccj++EFhwPzZdcfRa9fT09PT09PT09PT09PT09Kwwhob+P2h8ONiS8y0fAAAAAElFTkSuQmCC)\n",
        "\n",
        "1. List (in order) the states expanded and the final solution (also as a state sequence) returned by DFS, BFS, and UCS. Assume that goal checking is done only when a node is popped off the frontier.\n",
        "\n",
        "2. Give the solution that would be returned by A* a) for an admissible value of $h$ and b) for an inadmissible value of $h$. Please state the actual value that you used for each case. Depending on your answer, explain why they are the same or why they are different."
      ]
    },
    {
      "cell_type": "markdown",
      "metadata": {
        "id": "AFEtCxr4X77H"
      },
      "source": [
        "ENTER YOUR RESPONSES HERE\n",
        "\n",
        "1. a. DFS: S a d G1 G2 b c\n",
        "\n",
        "  Final state sequence is S a d G1\n",
        "   \n",
        "   b. BFS: S a b c d G1 G2 \n",
        "\n",
        "   Final state sequence is S b G1\n",
        "\n",
        "   c. UCS: S b a d G1\n",
        "\n",
        "   Final state sequence is S b G1\n",
        "2. a. $h$ is admissible: h=2\n",
        "\n",
        "Solution: S b G1\n",
        "\n",
        "   b. $h$ is inadmissible: h=10\n",
        "\n",
        "   Solution: S b G1\n",
        "\n",
        "   c. Explanation: They are the same because a is not along the optimal path. Therefore, increasing h(a) to an inadmissible value lowers the chance that we will find a solution through node a. In the case that h(b) was inadmissible, we would find a different solution."
      ]
    },
    {
      "cell_type": "markdown",
      "metadata": {
        "id": "HAsWMlxCFuCa"
      },
      "source": [
        "# Word Ladder\n",
        "\n",
        "In this assignment you will implement and use search algorithms to solve [word ladder](https://en.wikipedia.org/wiki/Word_ladder) puzzles. Given two English words, the goal is to transform the first word into the second word by changing one letter at a time. The catch is that each new word in the process must also be an English (dictionary) word. The following function encodes this process using the [pyenchant](https://pypi.org/project/pyenchant/) package."
      ]
    },
    {
      "cell_type": "code",
      "metadata": {
        "id": "Ficx2u1sgsxS",
        "colab": {
          "base_uri": "https://localhost:8080/",
          "height": 119
        },
        "outputId": "7fb06654-c593-4c79-88a3-1fe44ca3f179"
      },
      "source": [
        "# RUN THIS ONCE IN THE BEGINNING TO INSTALL PYENCHANT\n",
        "!pip install pyenchant\n",
        "!apt-get install libenchant1c2a"
      ],
      "execution_count": null,
      "outputs": [
        {
          "output_type": "stream",
          "text": [
            "Requirement already satisfied: pyenchant in /usr/local/lib/python3.6/dist-packages (3.1.1)\n",
            "Reading package lists... Done\n",
            "Building dependency tree       \n",
            "Reading state information... Done\n",
            "libenchant1c2a is already the newest version (1.6.0-11.1).\n",
            "0 upgraded, 0 newly installed, 0 to remove and 11 not upgraded.\n"
          ],
          "name": "stdout"
        }
      ]
    },
    {
      "cell_type": "code",
      "metadata": {
        "id": "CuTmOtxfNYfq"
      },
      "source": [
        "import enchant, string\n",
        "\n",
        "def successors(state):\n",
        "  \"\"\"\n",
        "  Given a word, find all possible English word results from changing one letter.\n",
        "  Return a list of (action, word) pairs, where action is the index of the\n",
        "  changed letter.\n",
        "  \"\"\"\n",
        "  d = enchant.Dict(\"en_US\")\n",
        "  child_states = []\n",
        "  for i in range(len(state)):\n",
        "    new = [state[:i]+x+state[i+1:] for x in string.ascii_lowercase]\n",
        "    words = [x for x in new if d.check(x) and x != state]\n",
        "    child_states = child_states + [(i, word) for word in words]\n",
        "  return child_states"
      ],
      "execution_count": null,
      "outputs": []
    },
    {
      "cell_type": "markdown",
      "metadata": {
        "id": "KiK0B8fiN_ey"
      },
      "source": [
        "The ```successors``` function returns viable successor words during search. Below is a partial implementation of ```best_first_search```. This follows the pseudocode provided in lecture and the textbook with some enhancements. It takes in as arguments the starting state, goal state, a priority function ```f```, and a depth limit (for depth-limited search). When finished, it returns either a node containing the goal state or ```None```, along with the frontier's maximum size and number of nodes expanded. Some more implementation details...\n",
        "\n",
        "*   Nodes are implemented as Python dictionaries. A node contains four components: the state, the node's parent, the action going from parent to this node, and the associated cost.\n",
        "*   We implement a priority queue using [heapq](https://docs.python.org/3.0/library/heapq.html). The frontier contains tuples of the form (cost, id, node), and they are sorted in order of increasing cost. Nodes with the same costs are then sorted according to their id.\n",
        "*   The priority function ```f``` takes in a node and the goal state as arguments.\n",
        "*   Costs are assumed to be uniform; i.e., each transition has cost equal to 1.\n",
        "\n",
        "## Coding 1 (15 points)\n",
        "\n",
        "Make sure you understand the description above, as well as the partial implementation given to you below. Then complete the loop portion of ```best_first_search``` where indicated. Some hints:\n",
        "\n",
        "*   The goal test can be done by simply checking string equality with the goal state.\n",
        "*   Don't forget to return the max frontier size and number of nodes expanded, along with the solution.\n",
        "*   You can ignore the ```depth_limit``` parameter for now.\n",
        "*   Use the provided ```expand``` function for node expansion.\n",
        "*   Push tuples into the frontier queue in the same way as in the initialization."
      ]
    },
    {
      "cell_type": "code",
      "metadata": {
        "id": "usm4lSbEIhqO"
      },
      "source": [
        "from heapq import heappush, heappop\n",
        "\n",
        "def expand(node):\n",
        "  \"\"\"\n",
        "  Given a node, return a list of successor nodes\n",
        "  \"\"\"\n",
        "  state = node['state']\n",
        "  children = []\n",
        "  for successor in successors(state):\n",
        "    children.append({'state':successor[1], 'parent':node,\n",
        "                     'action':successor[0], 'cost':node['cost']+1})\n",
        "  return children\n",
        "\n",
        "\n",
        "def best_first_search(state, goal, f, depth_limit):\n",
        "  \"\"\"\n",
        "  Inputs: Initial state, goal state, priority function, depth limit\n",
        "  Returns node containing goal or None if no goal found within depth limit, \n",
        "  max frontier size, total nodes expanded\n",
        "  \"\"\"\n",
        "  node = {'state':state, 'parent':None, 'action':None, 'cost':0}\n",
        "  frontier = []\n",
        "  heappush(frontier, (f(node, goal), id(node), node))\n",
        "  reached = {state: node}\n",
        "  max_frontier = 1\n",
        "  nodes_expanded = 0\n",
        "\n",
        "  while frontier:\n",
        "    max_frontier = max(max_frontier, len(frontier))\n",
        "    node = heappop(frontier)[2]\n",
        "\n",
        "    # YOUR CODE HERE \n",
        "    if node['state'] == goal:\n",
        "      return node, max_frontier, nodes_expanded\n",
        "    \"\"\"\n",
        "    After the goal test but before expanding a node, \n",
        "    check if its current depth is equal to or greater than the depth limit. \n",
        "    If it is, do not expand it---simply continue with the next node in the frontier.\n",
        "    \"\"\"\n",
        "    if node['cost'] < depth_limit:\n",
        "\n",
        "      for child in expand(node):\n",
        "        nodes_expanded += 1\n",
        "        s = child['state']\n",
        "        if s not in reached or (child['cost'] < reached[s]['cost']):\n",
        "          reached[s] = child\n",
        "          heappush(frontier, (f(child, goal), id(child), child))\n",
        "    \n",
        "  return None, max_frontier, nodes_expanded"
      ],
      "execution_count": null,
      "outputs": []
    },
    {
      "cell_type": "markdown",
      "metadata": {
        "id": "2YIH9ktQKmmz"
      },
      "source": [
        "The above ```best_first_search``` implementation is general. The specific approaches of depth-first, breadth-first, etc. can all be produced by specifying the appropriate priority function ```f```. For word ladders, breadth-first and uniform-cost search are identical since all costs are uniform.\n",
        "\n",
        "## Coding 2 (5 points)\n",
        "\n",
        "Complete the priority functions below for breadth-first and depth-first search. They can each be completed with one line of code. (Although ```goal``` is an argument, it doesn't necessarily have to be used.)"
      ]
    },
    {
      "cell_type": "code",
      "metadata": {
        "id": "Uj0h6VltLPXc"
      },
      "source": [
        "def f_bfs(node, goal):\n",
        "  # YOUR CODE HERE\n",
        "  return node['cost']\n",
        "\n",
        "def f_dfs(node, goal):\n",
        "  # YOUR CODE HERE\n",
        "  return -(node['cost'])\n"
      ],
      "execution_count": null,
      "outputs": []
    },
    {
      "cell_type": "markdown",
      "metadata": {
        "id": "xbEkEPR6UAep"
      },
      "source": [
        "We now have a complete implementation for BFS and DFS. The following functions will help us present the results in a friendly way. The first function puts together the sequence of words in the solution. The second prints out all the results together."
      ]
    },
    {
      "cell_type": "code",
      "metadata": {
        "id": "Gg1Sw0T-zrjM"
      },
      "source": [
        "def sequence(node):\n",
        "  words = [node['state']]\n",
        "  while node['parent'] is not None:\n",
        "    node = node['parent']\n",
        "    words.insert(0, node['state'])\n",
        "  return words\n",
        "\n",
        "def results(solution):\n",
        "  if solution[0] is not None:\n",
        "    words = sequence(solution[0])\n",
        "  else: words = \"No solution!\"\n",
        "  print(words)\n",
        "  print(\"Total cost:\", len(words)-1)\n",
        "  print(\"Max frontier size:\", solution[1])\n",
        "  print(\"Nodes expanded:\", solution[2])\n",
        "  print(\"\")"
      ],
      "execution_count": null,
      "outputs": []
    },
    {
      "cell_type": "markdown",
      "metadata": {
        "id": "tdf-EJZbIH0W"
      },
      "source": [
        "Time to test our implementation! We'll start off with some \"simple\" 3- and 4-letter word ladders. Run the first cell below a couple times and take note of the results. Also feel free to experiment with other 3-word ladders (you can search online for common ones to verify their solutions). Note that it is possible for DFS to occasionally get stuck going down very long paths. If your DFS is taking unreasonably long (more than a few minutes), try stopping execution, reloading the cell, and running it again.\n",
        "\n",
        "We separated the 4-letter word ladder into a separate cell for a reason. Try the same experiments as above, but be patient. The search space can get very large but it is finite, so it will eventually finish."
      ]
    },
    {
      "cell_type": "code",
      "metadata": {
        "id": "SI7WubfkFR72",
        "colab": {
          "base_uri": "https://localhost:8080/",
          "height": 241
        },
        "outputId": "d76ab759-4d78-4d5d-e570-717ecf9ca936"
      },
      "source": [
        "start = 'cat'\n",
        "goal = 'cop'\n",
        "\n",
        "solution = best_first_search(start, goal, f_bfs, float(\"inf\"))\n",
        "print(\"BFS\")\n",
        "results(solution)\n",
        "\n",
        "solution = best_first_search(start, goal, f_dfs, float(\"inf\"))\n",
        "print(\"DFS\")\n",
        "results(solution)"
      ],
      "execution_count": null,
      "outputs": [
        {
          "output_type": "stream",
          "text": [
            "BFS\n",
            "['cat', 'cot', 'cop']\n",
            "Total cost: 2\n",
            "Max frontier size: 325\n",
            "Nodes expanded: 2071\n",
            "\n",
            "DFS\n",
            "['cat', 'cay', 'gay', 'gad', 'wad', 'was', 'pas', 'pah', 'aah', 'ash', 'ssh', 'sch', 'sci', 'ski', 'ska', 'spa', 'spy', 'soy', 'sot', 'sit', 'tit', 'til', 'tel', 'ted', 'bed', 'bid', 'bio', 'boo', 'bob', 'dob', 'doe', 'dye', 'aye', 'ave', 'eve', 'ewe', 'owe', 'owl', 'awl', 'all', 'alt', 'art', 'arr', 'air', 'fir', 'fin', 'fen', 'fem', 'gem', 'get', 'yet', 'yew', 'mew', 'meh', 'mph', 'mpg', 'mag', 'mar', 'bar', 'bap', 'zap', 'zip', 'yip', 'yup', 'yum', 'sum', 'sun', 'bun', 'bug', 'tug', 'tub', 'hub', 'huh', 'duh', 'dud', 'mud', 'mus', 'nus', 'nut', 'put', 'pkt', 'pkg', 'peg', 'neg', 'nee', 'see', 'sec', 'rec', 'res', 'rps', 'cps', 'cos', 'cop']\n",
            "Total cost: 92\n",
            "Max frontier size: 513\n",
            "Nodes expanded: 28457\n",
            "\n"
          ],
          "name": "stdout"
        }
      ]
    },
    {
      "cell_type": "code",
      "metadata": {
        "id": "r1FTu4kKHVPJ",
        "colab": {
          "base_uri": "https://localhost:8080/",
          "height": 241
        },
        "outputId": "0ec6236a-54c0-4430-8343-32894b802da8"
      },
      "source": [
        "start = 'warm'\n",
        "goal = 'cold'\n",
        "\n",
        "solution = best_first_search(start, goal, f_bfs, float(\"inf\"))\n",
        "print(\"BFS\")\n",
        "results(solution)\n",
        "\n",
        "solution = best_first_search(start, goal, f_dfs, float(\"inf\"))\n",
        "print(\"DFS\")\n",
        "results(solution)"
      ],
      "execution_count": null,
      "outputs": [
        {
          "output_type": "stream",
          "text": [
            "BFS\n",
            "['warm', 'worm', 'word', 'cord', 'cold']\n",
            "Total cost: 4\n",
            "Max frontier size: 931\n",
            "Nodes expanded: 12424\n",
            "\n",
            "DFS\n",
            "['warm', 'warp', 'wasp', 'wisp', 'lisp', 'limp', 'limo', 'lilo', 'lily', 'oily', 'oils', 'ails', 'awls', 'awns', 'pwns', 'pins', 'wins', 'wink', 'dink', 'dine', 'cine', 'cite', 'cute', 'cuts', 'cups', 'sups', 'subs', 'sobs', 'sows', 'bows', 'bots', 'both', 'moth', 'math', 'mate', 'made', 'mads', 'tads', 'tags', 'sags', 'sass', 'sash', 'bash', 'bush', 'hush', 'husk', 'tusk', 'task', 'cask', 'case', 'cake', 'sake', 'save', 'lave', 'lava', 'lama', 'lams', 'lats', 'lets', 'gets', 'gees', 'tees', 'toes', 'foes', 'fogs', 'cogs', 'cods', 'nods', 'nous', 'yous', 'your', 'four', 'foul', 'fool', 'foot', 'root', 'room', 'zoom', 'zoos', 'poos', 'poss', 'posy', 'rosy', 'ropy', 'rope', 'rode', 'rude', 'dude', 'duke', 'puke', 'pure', 'pare', 'page', 'rage', 'race', 'racy', 'lacy', 'lack', 'jack', 'jock', 'bock', 'bonk', 'bong', 'tong', 'tone', 'lone', 'loge', 'logo', 'loco', 'coco', 'coca', 'coma', 'comp', 'pomp', 'pump', 'pulp', 'pull', 'poll', 'polo', 'solo', 'sole', 'vole', 'vale', 'wale', 'wile', 'rile', 'rime', 'rims', 'dims', 'dips', 'hips', 'hits', 'tits', 'tics', 'tick', 'nick', 'nice', 'mice', 'mire', 'more', 'morn', 'corn', 'corm', 'form', 'firm', 'firs', 'furs', 'fury', 'fumy', 'fume', 'fuse', 'muse', 'must', 'mutt', 'mitt', 'mint', 'lint', 'lent', 'pent', 'pert', 'perk', 'peak', 'peas', 'meas', 'meat', 'melt', 'meld', 'mend', 'fend', 'fens', 'kens', 'keys', 'beys', 'bays', 'jays', 'jars', 'gars', 'gabs', 'cabs', 'cans', 'cant', 'cunt', 'runt', 'rung', 'ring', 'hing', 'hind', 'hied', 'died', 'deed', 'dead', 'bead', 'brad', 'trad', 'toad', 'load', 'loud', 'laud', 'laid', 'maid', 'mail', 'hail', 'hair', 'heir', 'hear', 'heap', 'hemp', 'temp', 'tamp', 'damp', 'dame', 'daze', 'gaze', 'gape', 'nape', 'naps', 'paps', 'paws', 'yaws', 'yawn', 'yarn', 'yard', 'bard', 'bawd', 'gawd', 'gawk', 'hawk', 'hank', 'sank', 'sunk', 'funk', 'fuck', 'duck', 'duct', 'duet', 'dues', 'dyes', 'eyes', 'eves', 'ever', 'over', 'oven', 'open', 'oped', 'sped', 'spud', 'scud', 'scum', 'scam', 'scat', 'swat', 'swot', 'slot', 'clot', 'cloy', 'clay', 'cray', 'pray', 'prey', 'pres', 'ores', 'odes', 'ides', 'idem', 'item', 'stem', 'stew', 'stow', 'show', 'shop', 'ship', 'shin', 'skin', 'skid', 'slid', 'slim', 'swim', 'swig', 'twig', 'trig', 'frig', 'frog', 'flog', 'flop', 'plop', 'prop', 'crop', 'crow', 'grow', 'grok', 'gook', 'hook', 'hoop', 'loop', 'loon', 'noon', 'neon', 'peon', 'peen', 'seen', 'seer', 'beer', 'beep', 'keep', 'kelp', 'yelp', 'yell', 'bell', 'bill', 'gill', 'gall', 'call', 'calf', 'caff', 'cuff', 'buff', 'biff', 'miff', 'milf', 'milk', 'silk', 'silt', 'sift', 'gift', 'gist', 'dist', 'dost', 'host', 'hast', 'haft', 'heft', 'deft', 'dept', 'wept', 'west', 'nest', 'newt', 'news', 'hews', 'hers', 'herb', 'verb', 'very', 'vary', 'nary', 'nark', 'dark', 'dork', 'work', 'word', 'wold', 'cold']\n",
            "Total cost: 351\n",
            "Max frontier size: 1435\n",
            "Nodes expanded: 46304\n",
            "\n"
          ],
          "name": "stdout"
        }
      ]
    },
    {
      "cell_type": "markdown",
      "metadata": {
        "id": "xcWCqhM9JDTA"
      },
      "source": [
        "## Response 1 (5 points)\n",
        "\n",
        "Compare the optimality of each algorithm’s approach. Which one appears to be more efficient based on the maximum frontier size and number of nodes expanded during search? The latter is a metric of the time complexity of the algorithm; do the empirical results have any correspondence to the theoretical time complexities?"
      ]
    },
    {
      "cell_type": "markdown",
      "metadata": {
        "id": "Gtu0b70FKHFP"
      },
      "source": [
        "Breadth first search is more optimal based on both the frontier size and the number of nodes expanded. The empirical results correspond to the theoretical time complexity. Since BFS has a time complexity of O(b^d) where d is the shallowest solution and DFS has O(b^m) where m is the max depth. Our solutions are relatively shallow, but the search trees are very deep. Therefore, the empirical results we recieved make sense in correspondance to the theoretical time complexities.\n"
      ]
    },
    {
      "cell_type": "markdown",
      "metadata": {
        "id": "ADdxfOiIKMS9"
      },
      "source": [
        "## Coding 3 (5 points)\n",
        "\n",
        "We can use iterative deepening to get the best of both algorithms. First, go back to your implementation of ```best_first_search``` above to give it a depth-limiting option. We will treat the root of the search tree as depth 0. After the goal test but before expanding a node, check if its current depth is equal to or greater than the depth limit. If it is, do not expand it---simply continue with the next node in the frontier.\n",
        "\n",
        "Hint: The node cost already contains information about its depth in the search tree. "
      ]
    },
    {
      "cell_type": "markdown",
      "metadata": {
        "id": "pX6noox3L5cW"
      },
      "source": [
        "## Coding 4 (15 points)\n",
        "\n",
        "Now that ```best_first_search``` can employ depth limits, we just need to write the ```iterative_deepening``` wrapper that will repeatedly call it with increasing depth limits. Complete the function below to accomplish this. It should repeatedly call ```best_first_search``` (DFS priority) starting with depth limit 1 up to (and including) ```max_depth```. It returns a solution as soon as one is found, or ```None``` as usual if it has gone up to the max depth and has not found one. \n",
        "\n",
        "Note that IDS keeps track of its own ```max_frontier``` and ```nodes_expanded``` variables here. The former should be the max frontier size over *all* iterations, while the latter should be the *sum* of nodes expanded over all iterations."
      ]
    },
    {
      "cell_type": "code",
      "metadata": {
        "id": "i4AktQNm1DuX"
      },
      "source": [
        "def iterative_deepening(start, goal, max_depth):\n",
        "  \"\"\"\n",
        "  Iterative deepening search up to max_depth\n",
        "  Calls best_first_search using DFS priority with increasing depth\n",
        "  Same return values as best_first_search\n",
        "  \"\"\"\n",
        "  max_frontier = 0\n",
        "  nodes_expanded = 0\n",
        "\n",
        "  # YOUR CODE HERE\n",
        "  for n in range(1, max_depth + 1):\n",
        "    result = best_first_search(start, goal, f_dfs, n)\n",
        "    max_frontier += result[1]\n",
        "    nodes_expanded += result[2]\n",
        "    if result[0]:\n",
        "      return result[0], max_frontier, nodes_expanded\n",
        "\n",
        "\n",
        "  return None, max_frontier, nodes_expanded"
      ],
      "execution_count": null,
      "outputs": []
    },
    {
      "cell_type": "markdown",
      "metadata": {
        "id": "_H4GNvS7Og9r"
      },
      "source": [
        "Let's test out iterative deepening. We can be brave enough to go up to 4- and 5-letter word ladders now. Try the following tests (run them a couple times), and feel free to try other puzzles as well."
      ]
    },
    {
      "cell_type": "code",
      "metadata": {
        "id": "5d-AOSW-O2qz",
        "colab": {
          "base_uri": "https://localhost:8080/",
          "height": 445
        },
        "outputId": "3eb1ac49-b97d-43ba-e74b-9840002f0559"
      },
      "source": [
        "start = 'warm'\n",
        "goal = 'cold'\n",
        "\n",
        "solution = best_first_search(start, goal, f_bfs, float(\"inf\"))\n",
        "print(\"BFS\")\n",
        "results(solution)\n",
        "\n",
        "solution = iterative_deepening(start, goal, 10)\n",
        "print(\"IDS\")\n",
        "results(solution)\n",
        "\n",
        "start = 'large'\n",
        "goal = 'small'\n",
        "\n",
        "solution = best_first_search(start, goal, f_bfs, float(\"inf\"))\n",
        "print(\"BFS\")\n",
        "results(solution)\n",
        "\n",
        "solution = iterative_deepening(start, goal, 20)\n",
        "print(\"IDS\")\n",
        "results(solution)"
      ],
      "execution_count": null,
      "outputs": [
        {
          "output_type": "stream",
          "text": [
            "BFS\n",
            "['warm', 'worm', 'word', 'wold', 'cold']\n",
            "Total cost: 4\n",
            "Max frontier size: 875\n",
            "Nodes expanded: 9080\n",
            "\n",
            "IDS\n",
            "['warm', 'ward', 'card', 'cord', 'cold']\n",
            "Total cost: 4\n",
            "Max frontier size: 108\n",
            "Nodes expanded: 4364\n",
            "\n",
            "BFS\n",
            "['large', 'marge', 'mange', 'mangy', 'tangy', 'tangs', 'tings', 'tints', 'tents', 'teats', 'seats', 'stats', 'state', 'stale', 'stall', 'small']\n",
            "Total cost: 15\n",
            "Max frontier size: 806\n",
            "Nodes expanded: 23114\n",
            "\n",
            "IDS\n",
            "['large', 'marge', 'merge', 'verge', 'verse', 'terse', 'tease', 'cease', 'chase', 'chose', 'whose', 'whole', 'whale', 'shale', 'shall', 'small']\n",
            "Total cost: 15\n",
            "Max frontier size: 481\n",
            "Nodes expanded: 288717\n",
            "\n"
          ],
          "name": "stdout"
        }
      ]
    },
    {
      "cell_type": "markdown",
      "metadata": {
        "id": "r81MhDwuPkrr"
      },
      "source": [
        "## Response 2 (5 points)\n",
        "\n",
        "As before, compare the performance of BFS and IDS in terms of optimality and efficiency. What are the benefits of IDS over BFS and DFS? Are there any drawbacks of IDS?"
      ]
    },
    {
      "cell_type": "markdown",
      "metadata": {
        "id": "yr6mismqQiF7"
      },
      "source": [
        "BFS and IDS both return an optimal path, which is a benefit they have over DFS. IDS has smaller max frontier sizes, which means it is more efficient in storage. The memory efficiency is a benefit of IDS over BFS and DFS. However, for the five letter word, IDS expanded many more nodes (approx 10x more) than BFS. Therefore, it is more costly in time complexity. This increased runtime is a drawback of IDS."
      ]
    },
    {
      "cell_type": "markdown",
      "metadata": {
        "id": "viIYMvGCRH16"
      },
      "source": [
        "## Coding 5 (5 points)\n",
        "\n",
        "This last part is of course A* search. Thankfully, this will be quite straightforward, as we will reuse ```best_first_search``` once again. We just need to implement the priority function, which will now utilize a heuristic. A suitable heuristic is the Hamming distance between a state and the goal: the number of indices where the corresponding letters are different. Complete the ```f_astar``` function below to compute this (don't forget to add in the cost so far as well)."
      ]
    },
    {
      "cell_type": "code",
      "metadata": {
        "id": "-985SpVRxE9v"
      },
      "source": [
        "def f_astar(node, goal):\n",
        "  # YOUR CODE HERE\n",
        "  start = node['state']\n",
        "  h = 0\n",
        "  for n in range(0, len(start)):\n",
        "    if start[n] != goal[n]:\n",
        "      h += 1\n",
        "  return (h + node['cost'])\n",
        "  "
      ],
      "execution_count": null,
      "outputs": []
    },
    {
      "cell_type": "markdown",
      "metadata": {
        "id": "btGAtLNRSFoj"
      },
      "source": [
        "And that's it for coding! We'll do one last set of experiments, comparing IDS and A*. As before, you should run the following a couple times to get a sense of performance not dependent on tie-breaking behavior."
      ]
    },
    {
      "cell_type": "code",
      "metadata": {
        "id": "DhImiPYbxq-r",
        "colab": {
          "base_uri": "https://localhost:8080/",
          "height": 241
        },
        "outputId": "2f4224f5-d2ba-4f39-9edb-11c0714782af"
      },
      "source": [
        "start = 'warm'\n",
        "goal = 'cold'\n",
        "\n",
        "solution = best_first_search(start, goal, f_astar, float(\"inf\"))\n",
        "print(\"A*\")\n",
        "results(solution)\n",
        "\n",
        "start = 'large'\n",
        "goal = 'small'\n",
        "\n",
        "solution = best_first_search(start, goal, f_astar, float(\"inf\"))\n",
        "print(\"A*\")\n",
        "results(solution)"
      ],
      "execution_count": null,
      "outputs": [
        {
          "output_type": "stream",
          "text": [
            "A*\n",
            "['warm', 'ward', 'word', 'wold', 'cold']\n",
            "Total cost: 4\n",
            "Max frontier size: 51\n",
            "Nodes expanded: 95\n",
            "\n",
            "A*\n",
            "['large', 'marge', 'mange', 'mangy', 'mingy', 'minty', 'mints', 'milts', 'melts', 'meats', 'seats', 'stats', 'state', 'stale', 'stall', 'small']\n",
            "Total cost: 15\n",
            "Max frontier size: 949\n",
            "Nodes expanded: 16354\n",
            "\n"
          ],
          "name": "stdout"
        }
      ]
    },
    {
      "cell_type": "markdown",
      "metadata": {
        "id": "L3r9jaTISmUZ"
      },
      "source": [
        "## Response 3 (5 points)\n",
        "\n",
        "You should again see some differences between the uninformed search (e.g., IDS) results from before and heuristic search here. Where does A* excel over IDS? Why do you think the Hamming distance can make such a big difference in search efficiency?"
      ]
    },
    {
      "cell_type": "markdown",
      "metadata": {
        "id": "2hdFsG1bTge7"
      },
      "source": [
        "A* expands far fewer nodes than IDS (approx 20x fewer), which greatly reduces the runtime. The Hamming distance makes such a big difference in search efficiency because it increases the likelihood that the next node expanded will bring us closer to the goal, reducing the number of useless node expansions.  "
      ]
    },
    {
      "cell_type": "markdown",
      "metadata": {
        "id": "4yISnlIOqRnq"
      },
      "source": [
        "# Submission\n",
        "\n",
        "Prior to submitting your homework, do a clean run of all cells by clearing all outputs and restarting and rerunning the whole notebook. Make sure that all outputs are what you expect them to be and that everything is error-free. Then save your notebook, including all outputs. On Google Assignments, check that the timestamp is correct, and submit!"
      ]
    }
  ]
}